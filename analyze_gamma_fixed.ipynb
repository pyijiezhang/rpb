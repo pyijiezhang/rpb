{
 "cells": [
  {
   "cell_type": "code",
   "execution_count": 2,
   "metadata": {},
   "outputs": [
    {
     "name": "stdout",
     "output_type": "stream",
     "text": [
      "Intel MKL WARNING: Support of Intel(R) Streaming SIMD Extensions 4.2 (Intel(R) SSE4.2) enabled only processors has been deprecated. Intel oneAPI Math Kernel Library 2025.0 will require Intel(R) Advanced Vector Extensions (Intel(R) AVX) instructions.\n",
      "Intel MKL WARNING: Support of Intel(R) Streaming SIMD Extensions 4.2 (Intel(R) SSE4.2) enabled only processors has been deprecated. Intel oneAPI Math Kernel Library 2025.0 will require Intel(R) Advanced Vector Extensions (Intel(R) AVX) instructions.\n"
     ]
    }
   ],
   "source": [
    "import pickle\n",
    "import numpy as np\n",
    "import matplotlib.pyplot as plt"
   ]
  },
  {
   "cell_type": "code",
   "execution_count": 3,
   "metadata": {},
   "outputs": [],
   "source": [
    "name_data = \"mnist\"\n",
    "model = \"fcn\"\n",
    "objective = \"fclassic\"\n",
    "recursive_step_1=False\n",
    "split=\"geometric\"\n",
    "seed = 0\n",
    "gamma_t = 0.5\n",
    "T=8\n",
    "gammas=[0.0,0.1,0.2,0.3,0.4,0.5,0.6,0.7,0.8,0.9]"
   ]
  },
  {
   "cell_type": "code",
   "execution_count": 4,
   "metadata": {},
   "outputs": [],
   "source": [
    "exp_settings = f\"{name_data}_{model}_{objective}_{split}_{T}_{recursive_step_1}_{gamma_t}_{seed}.pt\"\n",
    "\n",
    "results_dir = f\"./results/rpb/results_gamma_fixed_\" + exp_settings\n",
    "with open(results_dir, \"rb\") as handle:\n",
    "    results_gamma = pickle.load(handle)"
   ]
  },
  {
   "cell_type": "code",
   "execution_count": 5,
   "metadata": {},
   "outputs": [
    {
     "data": {
      "text/plain": [
       "dict_keys([2, 3, 4])"
      ]
     },
     "execution_count": 5,
     "metadata": {},
     "output_type": "execute_result"
    }
   ],
   "source": [
    "results_gamma.keys()"
   ]
  },
  {
   "cell_type": "code",
   "execution_count": 8,
   "metadata": {},
   "outputs": [
    {
     "name": "stdout",
     "output_type": "stream",
     "text": [
      "t=2, T=8\n",
      "gamma: 0.0 empirical sum of excess loss: 0.2596754729747772\n",
      "gamma: 0.1 empirical sum of excess loss: 0.21111000105738645\n",
      "gamma: 0.2 empirical sum of excess loss: 0.15880870521068574\n",
      "gamma: 0.3 empirical sum of excess loss: 0.10694583207368852\n",
      "gamma: 0.4 empirical sum of excess loss: 0.05611771643161767\n",
      "gamma: 0.5 empirical sum of excess loss: 0.009457100182771683\n",
      "gamma: 0.6 empirical sum of excess loss: -0.11652222126722334\n",
      "gamma: 0.7 empirical sum of excess loss: -0.09428542256355277\n",
      "gamma: 0.8 empirical sum of excess loss: -0.1812907204031945\n",
      "gamma: 0.9 empirical sum of excess loss: -0.19583583250641812\n",
      "t=3, T=8\n",
      "gamma: 0.0 empirical sum of excess loss: 0.14968761801719666\n",
      "gamma: 0.1 empirical sum of excess loss: 0.1214804571121931\n",
      "gamma: 0.2 empirical sum of excess loss: 0.09381846338510513\n",
      "gamma: 0.3 empirical sum of excess loss: 0.07079051025211813\n",
      "gamma: 0.4 empirical sum of excess loss: 0.04201954752206799\n",
      "gamma: 0.5 empirical sum of excess loss: 0.016397757455706596\n",
      "gamma: 0.6 empirical sum of excess loss: -0.051517879217863105\n",
      "gamma: 0.7 empirical sum of excess loss: -0.0355501711368561\n",
      "gamma: 0.8 empirical sum of excess loss: -0.08127592355012891\n",
      "gamma: 0.9 empirical sum of excess loss: -0.08690890818834307\n",
      "t=4, T=8\n",
      "gamma: 0.0 empirical sum of excess loss: 0.12003441154956818\n",
      "gamma: 0.1 empirical sum of excess loss: 0.10602150484919548\n",
      "gamma: 0.2 empirical sum of excess loss: 0.08909763172268864\n",
      "gamma: 0.3 empirical sum of excess loss: 0.0775260139256716\n",
      "gamma: 0.4 empirical sum of excess loss: 0.06111999005079266\n",
      "gamma: 0.5 empirical sum of excess loss: 0.04706236347556114\n",
      "gamma: 0.6 empirical sum of excess loss: -0.001476142555475235\n",
      "gamma: 0.7 empirical sum of excess loss: 0.01531872935593126\n",
      "gamma: 0.8 empirical sum of excess loss: -0.015439131855964683\n",
      "gamma: 0.9 empirical sum of excess loss: -0.011433962360024474\n"
     ]
    }
   ],
   "source": [
    "for t in [2,3,4]:\n",
    "    print(f\"t={t}, T={T}\")\n",
    "    for gamma in gammas:\n",
    "        print(\"gamma:\", gamma, \"empirical sum of excess loss:\", results_gamma[t][gamma][\"loss_excess_sum\"])"
   ]
  },
  {
   "cell_type": "code",
   "execution_count": 7,
   "metadata": {},
   "outputs": [
    {
     "name": "stdout",
     "output_type": "stream",
     "text": [
      "t=2, T=8\n",
      "gamma: 0.0 E_t: 0.458036122341676\n",
      "gamma: 0.1 E_t: 0.4217331798902812\n",
      "gamma: 0.2 E_t: 0.38156285450546407\n",
      "gamma: 0.3 E_t: 0.3417551467759627\n",
      "gamma: 0.4 E_t: 0.3030661972665044\n",
      "gamma: 0.5 E_t: 0.2681186363674695\n",
      "gamma: 0.6 E_t: 0.13526434100881962\n",
      "gamma: 0.7 E_t: 0.1893040932304371\n",
      "gamma: 0.8 E_t: 0.10468700346444726\n",
      "gamma: 0.9 E_t: 0.11213359047220581\n",
      "t=3, T=8\n",
      "gamma: 0.0 E_t: 0.2559477077484583\n",
      "gamma: 0.1 E_t: 0.2316616675871545\n",
      "gamma: 0.2 E_t: 0.20804797664008795\n",
      "gamma: 0.3 E_t: 0.19002004481775447\n",
      "gamma: 0.4 E_t: 0.16536281476787548\n",
      "gamma: 0.5 E_t: 0.14427246969553417\n",
      "gamma: 0.6 E_t: 0.066491857192516\n",
      "gamma: 0.7 E_t: 0.10060963289481119\n",
      "gamma: 0.8 E_t: 0.052498722142037074\n",
      "gamma: 0.9 E_t: 0.0583671143382158\n",
      "t=4, T=8\n",
      "gamma: 0.0 E_t: 0.19721849722996962\n",
      "gamma: 0.1 E_t: 0.18489877622314393\n",
      "gamma: 0.2 E_t: 0.16916639497922092\n",
      "gamma: 0.3 E_t: 0.15948629350950777\n",
      "gamma: 0.4 E_t: 0.14445596423539409\n",
      "gamma: 0.5 E_t: 0.13194837238720497\n",
      "gamma: 0.6 E_t: 0.07489991531824997\n",
      "gamma: 0.7 E_t: 0.10347798050972509\n",
      "gamma: 0.8 E_t: 0.06843201294691344\n",
      "gamma: 0.9 E_t: 0.07907940528704906\n"
     ]
    }
   ],
   "source": [
    "for t in [2,3,4]:\n",
    "    print(f\"t={t}, T={T}\")\n",
    "    for gamma in gammas:\n",
    "        print(\"gamma:\", gamma, \"E_t:\", results_gamma[t][gamma][\"E_t\"])"
   ]
  },
  {
   "cell_type": "code",
   "execution_count": null,
   "metadata": {},
   "outputs": [],
   "source": []
  }
 ],
 "metadata": {
  "kernelspec": {
   "display_name": "pbb_tight",
   "language": "python",
   "name": "python3"
  },
  "language_info": {
   "codemirror_mode": {
    "name": "ipython",
    "version": 3
   },
   "file_extension": ".py",
   "mimetype": "text/x-python",
   "name": "python",
   "nbconvert_exporter": "python",
   "pygments_lexer": "ipython3",
   "version": "3.8.18"
  }
 },
 "nbformat": 4,
 "nbformat_minor": 2
}
