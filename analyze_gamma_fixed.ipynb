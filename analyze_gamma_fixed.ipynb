{
 "cells": [
  {
   "cell_type": "code",
   "execution_count": 1,
   "metadata": {},
   "outputs": [],
   "source": [
    "import pickle\n",
    "import numpy as np\n",
    "import matplotlib.pyplot as plt"
   ]
  },
  {
   "cell_type": "code",
   "execution_count": 6,
   "metadata": {},
   "outputs": [],
   "source": [
    "name_data = \"mnist\"\n",
    "model = \"fcn\"\n",
    "objective = \"fclassic\"\n",
    "recursive_step_1=False\n",
    "split=\"geometric\"\n",
    "seed = 1\n",
    "gamma_t = 0.5\n",
    "T=6\n",
    "gammas=[0.02,0.04,0.06,0.08,0.1,0.2,0.3,0.4,0.5,0.6,0.7,0.8,0.9]"
   ]
  },
  {
   "cell_type": "code",
   "execution_count": 7,
   "metadata": {},
   "outputs": [],
   "source": [
    "exp_settings = f\"{name_data}_{model}_{objective}_{split}_{T}_{recursive_step_1}_{gamma_t}_{seed}.pt\"\n",
    "\n",
    "results_dir = f\"./results/rpb/results_gamma_fixed_\" + exp_settings\n",
    "with open(results_dir, \"rb\") as handle:\n",
    "    results_gamma = pickle.load(handle)"
   ]
  },
  {
   "cell_type": "code",
   "execution_count": 8,
   "metadata": {},
   "outputs": [
    {
     "data": {
      "text/plain": [
       "dict_keys([2, 3, 4, 5, 6])"
      ]
     },
     "execution_count": 8,
     "metadata": {},
     "output_type": "execute_result"
    }
   ],
   "source": [
    "results_gamma.keys()"
   ]
  },
  {
   "cell_type": "code",
   "execution_count": 9,
   "metadata": {},
   "outputs": [
    {
     "name": "stdout",
     "output_type": "stream",
     "text": [
      "t=3, T=6\n",
      "gamma: 0.02 binarification of excess loss: 0.11173866853117943  excess loss: [0.11173867]\n",
      "gamma: 0.04 binarification of excess loss: 0.1086527970433235  excess loss: [0.1086528]\n",
      "gamma: 0.06 binarification of excess loss: 0.10730595730245115  excess loss: [0.10730596]\n",
      "gamma: 0.08 binarification of excess loss: 0.10484622240066528  excess loss: [0.10484622]\n",
      "gamma: 0.1 binarification of excess loss: 0.10191111043095591  excess loss: [0.10191111]\n",
      "gamma: 0.2 binarification of excess loss: 0.08795022144913678  excess loss: [0.08795022]\n",
      "gamma: 0.3 binarification of excess loss: 0.07376533932983875  excess loss: [0.07376533]\n",
      "gamma: 0.4 binarification of excess loss: 0.05953777134418492  excess loss: [0.05953778]\n",
      "gamma: 0.5 binarification of excess loss: 0.043555544689297676  excess loss: [0.04355556]\n",
      "gamma: 0.6 binarification of excess loss: 0.03305600509047513  excess loss: [0.033056]\n",
      "gamma: 0.7 binarification of excess loss: 0.017148456349968977  excess loss: [0.01714844]\n",
      "gamma: 0.8 binarification of excess loss: 0.002897773683071092  excess loss: [0.00289778]\n",
      "gamma: 0.9 binarification of excess loss: -0.010474640876054764  excess loss: [-0.01047467]\n",
      "t=4, T=6\n",
      "gamma: 0.02 binarification of excess loss: 0.09741561621427534  excess loss: [0.09741562]\n",
      "gamma: 0.04 binarification of excess loss: 0.09419580891728399  excess loss: [0.09419581]\n",
      "gamma: 0.06 binarification of excess loss: 0.09120838273316623  excess loss: [0.09120838]\n",
      "gamma: 0.08 binarification of excess loss: 0.08966095030307768  excess loss: [0.08966095]\n",
      "gamma: 0.1 binarification of excess loss: 0.08732571452856064  excess loss: [0.08732571]\n",
      "gamma: 0.2 binarification of excess loss: 0.0748609602451325  excess loss: [0.07486095]\n",
      "gamma: 0.3 binarification of excess loss: 0.06456000022590158  excess loss: [0.06456]\n",
      "gamma: 0.4 binarification of excess loss: 0.05044191405177112  excess loss: [0.0504419]\n",
      "gamma: 0.5 binarification of excess loss: 0.040333325043320656  excess loss: [0.04033333]\n",
      "gamma: 0.6 binarification of excess loss: 0.02924570403993132  excess loss: [0.02924571]\n",
      "gamma: 0.7 binarification of excess loss: 0.018340948969125748  excess loss: [0.01834095]\n",
      "gamma: 0.8 binarification of excess loss: 0.0049523904919624995  excess loss: [0.00495238]\n",
      "gamma: 0.9 binarification of excess loss: -0.007483820989727996  excess loss: [-0.00748381]\n"
     ]
    }
   ],
   "source": [
    "for t in [3,4]:\n",
    "    print(f\"t={t}, T={T}\")\n",
    "    for gamma in gammas:\n",
    "        print(\"gamma:\", gamma, \"binarification of excess loss:\", results_gamma[t][gamma][\"loss_excess_sum\"],\n",
    "              \" excess loss:\", results_gamma[t][gamma][\"posterior-gam_prior\"],\n",
    "              )"
   ]
  },
  {
   "cell_type": "code",
   "execution_count": 7,
   "metadata": {},
   "outputs": [
    {
     "name": "stdout",
     "output_type": "stream",
     "text": [
      "t=2, T=8\n",
      "gamma: 0.0 E_t: 0.458036122341676\n",
      "gamma: 0.1 E_t: 0.4217331798902812\n",
      "gamma: 0.2 E_t: 0.38156285450546407\n",
      "gamma: 0.3 E_t: 0.3417551467759627\n",
      "gamma: 0.4 E_t: 0.3030661972665044\n",
      "gamma: 0.5 E_t: 0.2681186363674695\n",
      "gamma: 0.6 E_t: 0.13526434100881962\n",
      "gamma: 0.7 E_t: 0.1893040932304371\n",
      "gamma: 0.8 E_t: 0.10468700346444726\n",
      "gamma: 0.9 E_t: 0.11213359047220581\n",
      "t=3, T=8\n",
      "gamma: 0.0 E_t: 0.2559477077484583\n",
      "gamma: 0.1 E_t: 0.2316616675871545\n",
      "gamma: 0.2 E_t: 0.20804797664008795\n",
      "gamma: 0.3 E_t: 0.19002004481775447\n",
      "gamma: 0.4 E_t: 0.16536281476787548\n",
      "gamma: 0.5 E_t: 0.14427246969553417\n",
      "gamma: 0.6 E_t: 0.066491857192516\n",
      "gamma: 0.7 E_t: 0.10060963289481119\n",
      "gamma: 0.8 E_t: 0.052498722142037074\n",
      "gamma: 0.9 E_t: 0.0583671143382158\n",
      "t=4, T=8\n",
      "gamma: 0.0 E_t: 0.19721849722996962\n",
      "gamma: 0.1 E_t: 0.18489877622314393\n",
      "gamma: 0.2 E_t: 0.16916639497922092\n",
      "gamma: 0.3 E_t: 0.15948629350950777\n",
      "gamma: 0.4 E_t: 0.14445596423539409\n",
      "gamma: 0.5 E_t: 0.13194837238720497\n",
      "gamma: 0.6 E_t: 0.07489991531824997\n",
      "gamma: 0.7 E_t: 0.10347798050972509\n",
      "gamma: 0.8 E_t: 0.06843201294691344\n",
      "gamma: 0.9 E_t: 0.07907940528704906\n"
     ]
    }
   ],
   "source": [
    "for t in [2,3,4]:\n",
    "    print(f\"t={t}, T={T}\")\n",
    "    for gamma in gammas:\n",
    "        print(\"gamma:\", gamma, \"E_t:\", results_gamma[t][gamma][\"E_t\"])"
   ]
  },
  {
   "cell_type": "code",
   "execution_count": null,
   "metadata": {},
   "outputs": [],
   "source": []
  }
 ],
 "metadata": {
  "kernelspec": {
   "display_name": "pbb_tight",
   "language": "python",
   "name": "python3"
  },
  "language_info": {
   "codemirror_mode": {
    "name": "ipython",
    "version": 3
   },
   "file_extension": ".py",
   "mimetype": "text/x-python",
   "name": "python",
   "nbconvert_exporter": "python",
   "pygments_lexer": "ipython3",
   "version": "3.10.13"
  }
 },
 "nbformat": 4,
 "nbformat_minor": 2
}
